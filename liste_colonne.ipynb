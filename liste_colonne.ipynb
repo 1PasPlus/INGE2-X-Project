{
 "cells": [
  {
   "cell_type": "code",
   "execution_count": 4,
   "metadata": {},
   "outputs": [
    {
     "name": "stdout",
     "output_type": "stream",
     "text": [
      "Index(['Titre', 'Source', 'url', 'published date', 'description',\n",
      "       'Meta description', 'Contenu'],\n",
      "      dtype='object')\n"
     ]
    }
   ],
   "source": [
    "import pandas as pd\n",
    "# Charger le fichier CSV en spécifiant le séparateur comme une virgule (',')\n",
    "df = pd.read_csv('choix_tendances.csv', sep=';')\n",
    "\n",
    "# Afficher les noms des colonnes pour vérification\n",
    "print(df.columns)\n",
    "\n"
   ]
  }
 ],
 "metadata": {
  "kernelspec": {
   "display_name": "Python 3",
   "language": "python",
   "name": "python3"
  },
  "language_info": {
   "codemirror_mode": {
    "name": "ipython",
    "version": 3
   },
   "file_extension": ".py",
   "mimetype": "text/x-python",
   "name": "python",
   "nbconvert_exporter": "python",
   "pygments_lexer": "ipython3",
   "version": "3.11.9"
  }
 },
 "nbformat": 4,
 "nbformat_minor": 2
}
